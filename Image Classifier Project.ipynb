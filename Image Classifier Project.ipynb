{
 "cells": [
  {
   "cell_type": "markdown",
   "metadata": {},
   "source": [
    "# Developing an AI application\n",
    "\n",
    "Going forward, AI algorithms will be incorporated into more and more everyday applications. For example, you might want to include an image classifier in a smart phone app. To do this, you'd use a deep learning model trained on hundreds of thousands of images as part of the overall application architecture. A large part of software development in the future will be using these types of models as common parts of applications. \n",
    "\n",
    "In this project, you'll train an image classifier to recognize different species of flowers. You can imagine using something like this in a phone app that tells you the name of the flower your camera is looking at. In practice you'd train this classifier, then export it for use in your application. We'll be using [this dataset](http://www.robots.ox.ac.uk/~vgg/data/flowers/102/index.html) of 102 flower categories, you can see a few examples below. \n",
    "\n",
    "<img src='assets/Flowers.png' width=500px>\n",
    "\n",
    "The project is broken down into multiple steps:\n",
    "\n",
    "* Load and preprocess the image dataset\n",
    "* Train the image classifier on your dataset\n",
    "* Use the trained classifier to predict image content\n",
    "\n",
    "We'll lead you through each part which you'll implement in Python.\n",
    "\n",
    "When you've completed this project, you'll have an application that can be trained on any set of labeled images. Here your network will be learning about flowers and end up as a command line application. But, what you do with your new skills depends on your imagination and effort in building a dataset. For example, imagine an app where you take a picture of a car, it tells you what the make and model is, then looks up information about it. Go build your own dataset and make something new.\n",
    "\n",
    "First up is importing the packages you'll need. It's good practice to keep all the imports at the beginning of your code. As you work through this notebook and find you need to import a package, make sure to add the import up here."
   ]
  },
  {
   "cell_type": "code",
   "execution_count": 1,
   "metadata": {},
   "outputs": [],
   "source": [
    "# Imports here\n",
    "import matplotlib.pyplot as plt\n",
    "import torch\n",
    "from torch import nn\n",
    "from torch import optim\n",
    "import torch.nn.functional as F\n",
    "from torchvision import datasets, transforms, models\n",
    "import time\n",
    "import numpy as np\n",
    "from PIL import Image\n",
    "import os, random"
   ]
  },
  {
   "cell_type": "markdown",
   "metadata": {},
   "source": [
    "## Load the data\n",
    "\n",
    "Here you'll use `torchvision` to load the data ([documentation](http://pytorch.org/docs/0.3.0/torchvision/index.html)). The data should be included alongside this notebook, otherwise you can [download it here](https://s3.amazonaws.com/content.udacity-data.com/nd089/flower_data.tar.gz). The dataset is split into three parts, training, validation, and testing. For the training, you'll want to apply transformations such as random scaling, cropping, and flipping. This will help the network generalize leading to better performance. You'll also need to make sure the input data is resized to 224x224 pixels as required by the pre-trained networks.\n",
    "\n",
    "The validation and testing sets are used to measure the model's performance on data it hasn't seen yet. For this you don't want any scaling or rotation transformations, but you'll need to resize then crop the images to the appropriate size.\n",
    "\n",
    "The pre-trained networks you'll use were trained on the ImageNet dataset where each color channel was normalized separately. For all three sets you'll need to normalize the means and standard deviations of the images to what the network expects. For the means, it's `[0.485, 0.456, 0.406]` and for the standard deviations `[0.229, 0.224, 0.225]`, calculated from the ImageNet images.  These values will shift each color channel to be centered at 0 and range from -1 to 1.\n",
    " "
   ]
  },
  {
   "cell_type": "code",
   "execution_count": 2,
   "metadata": {},
   "outputs": [],
   "source": [
    "data_dir = 'flowers'\n",
    "train_dir = data_dir + '/train'\n",
    "valid_dir = data_dir + '/valid'\n",
    "test_dir = data_dir + '/test' "
   ]
  },
  {
   "cell_type": "code",
   "execution_count": 3,
   "metadata": {},
   "outputs": [],
   "source": [
    "# TODO: Define your transforms for the training, validation, and testing sets\n",
    "train_transforms = transforms.Compose([transforms.RandomRotation(30),\n",
    "                                       transforms.RandomResizedCrop(224),\n",
    "                                       transforms.RandomHorizontalFlip(),\n",
    "                                       transforms.ToTensor(),\n",
    "                                       transforms.Normalize([0.485, 0.456, 0.406],\n",
    "                                                            [0.229, 0.224, 0.225])])\n",
    "\n",
    "test_transforms = transforms.Compose([transforms.Resize(255),\n",
    "                                      transforms.CenterCrop(224),\n",
    "                                      transforms.ToTensor(),\n",
    "                                      transforms.Normalize([0.485, 0.456, 0.406],\n",
    "                                                           [0.229, 0.224, 0.225])])\n",
    "\n",
    "val_transforms = transforms.Compose([transforms.Resize(255),\n",
    "                                      transforms.CenterCrop(224),\n",
    "                                      transforms.ToTensor(),\n",
    "                                      transforms.Normalize([0.485, 0.456, 0.406],\n",
    "                                                           [0.229, 0.224, 0.225])]) \n",
    "# TODO: Load the datasets with ImageFolder\n",
    "train_datasets = datasets.ImageFolder(train_dir, transform=train_transforms)\n",
    "\n",
    "test_datasets = datasets.ImageFolder(test_dir, transform=test_transforms)\n",
    "\n",
    "val_datasets = datasets.ImageFolder(valid_dir, transform=val_transforms)\n",
    "\n",
    "# TODO: Using the image datasets and the trainforms, define the dataloaders\n",
    "trainloader = torch.utils.data.DataLoader(train_datasets, batch_size=64, shuffle=True)\n",
    "testloader = torch.utils.data.DataLoader(test_datasets, batch_size=64, shuffle=True)\n",
    "valloader = torch.utils.data.DataLoader(val_datasets, batch_size=64)\n",
    "\n",
    "image_datasets = [train_datasets, test_datasets, val_datasets]\n",
    "dataloaders = [trainloader, testloader, valloader]"
   ]
  },
  {
   "cell_type": "markdown",
   "metadata": {},
   "source": [
    "### Label mapping\n",
    "\n",
    "You'll also need to load in a mapping from category label to category name. You can find this in the file `cat_to_name.json`. It's a JSON object which you can read in with the [`json` module](https://docs.python.org/2/library/json.html). This will give you a dictionary mapping the integer encoded categories to the actual names of the flowers."
   ]
  },
  {
   "cell_type": "code",
   "execution_count": 4,
   "metadata": {},
   "outputs": [],
   "source": [
    "import json\n",
    "\n",
    "with open('cat_to_name.json', 'r') as f:\n",
    "    cat_to_name = json.load(f)"
   ]
  },
  {
   "cell_type": "markdown",
   "metadata": {},
   "source": [
    "# Building and training the classifier\n",
    "\n",
    "Now that the data is ready, it's time to build and train the classifier. As usual, you should use one of the pretrained models from `torchvision.models` to get the image features. Build and train a new feed-forward classifier using those features.\n",
    "\n",
    "We're going to leave this part up to you. Refer to [the rubric](https://review.udacity.com/#!/rubrics/1663/view) for guidance on successfully completing this section. Things you'll need to do:\n",
    "\n",
    "* Load a [pre-trained network](http://pytorch.org/docs/master/torchvision/models.html) (If you need a starting point, the VGG networks work great and are straightforward to use)\n",
    "* Define a new, untrained feed-forward network as a classifier, using ReLU activations and dropout\n",
    "* Train the classifier layers using backpropagation using the pre-trained network to get the features\n",
    "* Track the loss and accuracy on the validation set to determine the best hyperparameters\n",
    "\n",
    "We've left a cell open for you below, but use as many as you need. Our advice is to break the problem up into smaller parts you can run separately. Check that each part is doing what you expect, then move on to the next. You'll likely find that as you work through each part, you'll need to go back and modify your previous code. This is totally normal!\n",
    "\n",
    "When training make sure you're updating only the weights of the feed-forward network. You should be able to get the validation accuracy above 70% if you build everything right. Make sure to try different hyperparameters (learning rate, units in the classifier, epochs, etc) to find the best model. Save those hyperparameters to use as default values in the next part of the project.\n",
    "\n",
    "One last important tip if you're using the workspace to run your code: To avoid having your workspace disconnect during the long-running tasks in this notebook, please read in the earlier page in this lesson called Intro to\n",
    "GPU Workspaces about Keeping Your Session Active. You'll want to include code from the workspace_utils.py module.\n",
    "\n",
    "**Note for Workspace users:** If your network is over 1 GB when saved as a checkpoint, there might be issues with saving backups in your workspace. Typically this happens with wide dense layers after the convolutional layers. If your saved checkpoint is larger than 1 GB (you can open a terminal and check with `ls -lh`), you should reduce the size of your hidden layers and train again."
   ]
  },
  {
   "cell_type": "code",
   "execution_count": 5,
   "metadata": {},
   "outputs": [
    {
     "name": "stderr",
     "output_type": "stream",
     "text": [
      "Downloading: \"https://download.pytorch.org/models/vgg11-bbd30ac9.pth\" to /root/.torch/models/vgg11-bbd30ac9.pth\n",
      "100%|██████████| 531456000/531456000 [00:05<00:00, 101838792.71it/s]\n"
     ]
    },
    {
     "data": {
      "text/plain": [
       "VGG(\n",
       "  (features): Sequential(\n",
       "    (0): Conv2d(3, 64, kernel_size=(3, 3), stride=(1, 1), padding=(1, 1))\n",
       "    (1): ReLU(inplace)\n",
       "    (2): MaxPool2d(kernel_size=2, stride=2, padding=0, dilation=1, ceil_mode=False)\n",
       "    (3): Conv2d(64, 128, kernel_size=(3, 3), stride=(1, 1), padding=(1, 1))\n",
       "    (4): ReLU(inplace)\n",
       "    (5): MaxPool2d(kernel_size=2, stride=2, padding=0, dilation=1, ceil_mode=False)\n",
       "    (6): Conv2d(128, 256, kernel_size=(3, 3), stride=(1, 1), padding=(1, 1))\n",
       "    (7): ReLU(inplace)\n",
       "    (8): Conv2d(256, 256, kernel_size=(3, 3), stride=(1, 1), padding=(1, 1))\n",
       "    (9): ReLU(inplace)\n",
       "    (10): MaxPool2d(kernel_size=2, stride=2, padding=0, dilation=1, ceil_mode=False)\n",
       "    (11): Conv2d(256, 512, kernel_size=(3, 3), stride=(1, 1), padding=(1, 1))\n",
       "    (12): ReLU(inplace)\n",
       "    (13): Conv2d(512, 512, kernel_size=(3, 3), stride=(1, 1), padding=(1, 1))\n",
       "    (14): ReLU(inplace)\n",
       "    (15): MaxPool2d(kernel_size=2, stride=2, padding=0, dilation=1, ceil_mode=False)\n",
       "    (16): Conv2d(512, 512, kernel_size=(3, 3), stride=(1, 1), padding=(1, 1))\n",
       "    (17): ReLU(inplace)\n",
       "    (18): Conv2d(512, 512, kernel_size=(3, 3), stride=(1, 1), padding=(1, 1))\n",
       "    (19): ReLU(inplace)\n",
       "    (20): MaxPool2d(kernel_size=2, stride=2, padding=0, dilation=1, ceil_mode=False)\n",
       "  )\n",
       "  (classifier): Sequential(\n",
       "    (0): Linear(in_features=25088, out_features=4096, bias=True)\n",
       "    (1): ReLU(inplace)\n",
       "    (2): Dropout(p=0.5)\n",
       "    (3): Linear(in_features=4096, out_features=4096, bias=True)\n",
       "    (4): ReLU(inplace)\n",
       "    (5): Dropout(p=0.5)\n",
       "    (6): Linear(in_features=4096, out_features=1000, bias=True)\n",
       "  )\n",
       ")"
      ]
     },
     "execution_count": 5,
     "metadata": {},
     "output_type": "execute_result"
    }
   ],
   "source": [
    "# TODO: Build and train your network\n",
    "model = models.vgg11(pretrained=True)\n",
    "model"
   ]
  },
  {
   "cell_type": "code",
   "execution_count": 6,
   "metadata": {},
   "outputs": [],
   "source": [
    "for param in model.parameters():\n",
    "    param.requires_grad = True"
   ]
  },
  {
   "cell_type": "code",
   "execution_count": 7,
   "metadata": {},
   "outputs": [
    {
     "data": {
      "text/plain": [
       "VGG(\n",
       "  (features): Sequential(\n",
       "    (0): Conv2d(3, 64, kernel_size=(3, 3), stride=(1, 1), padding=(1, 1))\n",
       "    (1): ReLU(inplace)\n",
       "    (2): MaxPool2d(kernel_size=2, stride=2, padding=0, dilation=1, ceil_mode=False)\n",
       "    (3): Conv2d(64, 128, kernel_size=(3, 3), stride=(1, 1), padding=(1, 1))\n",
       "    (4): ReLU(inplace)\n",
       "    (5): MaxPool2d(kernel_size=2, stride=2, padding=0, dilation=1, ceil_mode=False)\n",
       "    (6): Conv2d(128, 256, kernel_size=(3, 3), stride=(1, 1), padding=(1, 1))\n",
       "    (7): ReLU(inplace)\n",
       "    (8): Conv2d(256, 256, kernel_size=(3, 3), stride=(1, 1), padding=(1, 1))\n",
       "    (9): ReLU(inplace)\n",
       "    (10): MaxPool2d(kernel_size=2, stride=2, padding=0, dilation=1, ceil_mode=False)\n",
       "    (11): Conv2d(256, 512, kernel_size=(3, 3), stride=(1, 1), padding=(1, 1))\n",
       "    (12): ReLU(inplace)\n",
       "    (13): Conv2d(512, 512, kernel_size=(3, 3), stride=(1, 1), padding=(1, 1))\n",
       "    (14): ReLU(inplace)\n",
       "    (15): MaxPool2d(kernel_size=2, stride=2, padding=0, dilation=1, ceil_mode=False)\n",
       "    (16): Conv2d(512, 512, kernel_size=(3, 3), stride=(1, 1), padding=(1, 1))\n",
       "    (17): ReLU(inplace)\n",
       "    (18): Conv2d(512, 512, kernel_size=(3, 3), stride=(1, 1), padding=(1, 1))\n",
       "    (19): ReLU(inplace)\n",
       "    (20): MaxPool2d(kernel_size=2, stride=2, padding=0, dilation=1, ceil_mode=False)\n",
       "  )\n",
       "  (classifier): Sequential(\n",
       "    (0): Linear(in_features=25088, out_features=256, bias=True)\n",
       "    (1): ReLU()\n",
       "    (2): Dropout(p=0.2)\n",
       "    (3): Linear(in_features=256, out_features=102, bias=True)\n",
       "    (4): LogSoftmax()\n",
       "  )\n",
       ")"
      ]
     },
     "execution_count": 7,
     "metadata": {},
     "output_type": "execute_result"
    }
   ],
   "source": [
    "classifier = nn.Sequential(nn.Linear(25088, 256),\n",
    "                          nn.ReLU(),\n",
    "                          nn.Dropout(p=0.2),\n",
    "                          nn.Linear(256, 102),\n",
    "                          nn.LogSoftmax(dim=1))\n",
    "model.classifier= classifier\n",
    "model"
   ]
  },
  {
   "cell_type": "code",
   "execution_count": 8,
   "metadata": {},
   "outputs": [],
   "source": [
    "criterion = nn.NLLLoss()\n",
    "\n",
    "optimizer = optim.Adam(model.classifier.parameters(), lr=0.003)\n",
    "\n",
    "device = torch.device(\"cuda\" if torch.cuda.is_available() else \"cpu\")\n",
    "\n",
    "model.to(device);"
   ]
  },
  {
   "cell_type": "code",
   "execution_count": 9,
   "metadata": {},
   "outputs": [
    {
     "name": "stdout",
     "output_type": "stream",
     "text": [
      "Epoch 1/2.. Train loss: 6.157.. Test loss: 8.099.. Test accuracy: 0.026\n",
      "Epoch 1/2.. Train loss: 7.130.. Test loss: 7.118.. Test accuracy: 0.066\n",
      "Epoch 1/2.. Train loss: 6.848.. Test loss: 4.924.. Test accuracy: 0.112\n",
      "Epoch 1/2.. Train loss: 4.815.. Test loss: 4.077.. Test accuracy: 0.129\n",
      "Epoch 1/2.. Train loss: 4.224.. Test loss: 4.096.. Test accuracy: 0.119\n",
      "Epoch 1/2.. Train loss: 4.152.. Test loss: 4.021.. Test accuracy: 0.151\n",
      "Epoch 1/2.. Train loss: 4.215.. Test loss: 3.888.. Test accuracy: 0.168\n",
      "Epoch 1/2.. Train loss: 3.944.. Test loss: 3.758.. Test accuracy: 0.202\n",
      "Epoch 1/2.. Train loss: 3.871.. Test loss: 3.731.. Test accuracy: 0.203\n",
      "Epoch 1/2.. Train loss: 3.848.. Test loss: 3.546.. Test accuracy: 0.244\n",
      "Epoch 1/2.. Train loss: 3.803.. Test loss: 3.409.. Test accuracy: 0.248\n",
      "Epoch 1/2.. Train loss: 3.725.. Test loss: 3.268.. Test accuracy: 0.265\n",
      "Epoch 1/2.. Train loss: 3.693.. Test loss: 3.055.. Test accuracy: 0.298\n",
      "Epoch 1/2.. Train loss: 3.526.. Test loss: 3.000.. Test accuracy: 0.313\n",
      "Epoch 1/2.. Train loss: 3.370.. Test loss: 2.956.. Test accuracy: 0.305\n",
      "Epoch 1/2.. Train loss: 3.360.. Test loss: 2.894.. Test accuracy: 0.314\n",
      "Epoch 1/2.. Train loss: 3.074.. Test loss: 2.872.. Test accuracy: 0.329\n",
      "Epoch 1/2.. Train loss: 3.020.. Test loss: 2.760.. Test accuracy: 0.343\n",
      "Epoch 1/2.. Train loss: 2.731.. Test loss: 2.640.. Test accuracy: 0.383\n",
      "Epoch 1/2.. Train loss: 3.136.. Test loss: 2.487.. Test accuracy: 0.390\n",
      "Epoch 1/2.. Train loss: 3.044.. Test loss: 2.467.. Test accuracy: 0.398\n",
      "Epoch 1/2.. Train loss: 2.608.. Test loss: 2.364.. Test accuracy: 0.426\n",
      "Epoch 1/2.. Train loss: 2.684.. Test loss: 2.402.. Test accuracy: 0.420\n",
      "Epoch 1/2.. Train loss: 2.785.. Test loss: 2.213.. Test accuracy: 0.437\n",
      "Epoch 1/2.. Train loss: 3.006.. Test loss: 2.204.. Test accuracy: 0.449\n",
      "Epoch 1/2.. Train loss: 2.703.. Test loss: 2.190.. Test accuracy: 0.432\n",
      "Epoch 1/2.. Train loss: 2.257.. Test loss: 2.183.. Test accuracy: 0.437\n",
      "Epoch 1/2.. Train loss: 2.302.. Test loss: 2.200.. Test accuracy: 0.431\n",
      "Epoch 1/2.. Train loss: 2.829.. Test loss: 2.075.. Test accuracy: 0.463\n",
      "Epoch 1/2.. Train loss: 2.497.. Test loss: 2.104.. Test accuracy: 0.470\n",
      "Epoch 1/2.. Train loss: 2.306.. Test loss: 2.141.. Test accuracy: 0.460\n",
      "Epoch 1/2.. Train loss: 2.413.. Test loss: 1.996.. Test accuracy: 0.488\n",
      "Epoch 1/2.. Train loss: 2.719.. Test loss: 1.938.. Test accuracy: 0.491\n",
      "Epoch 1/2.. Train loss: 2.645.. Test loss: 1.903.. Test accuracy: 0.494\n",
      "Epoch 1/2.. Train loss: 2.404.. Test loss: 1.898.. Test accuracy: 0.500\n",
      "Epoch 1/2.. Train loss: 2.528.. Test loss: 1.881.. Test accuracy: 0.503\n",
      "Epoch 1/2.. Train loss: 2.261.. Test loss: 1.896.. Test accuracy: 0.512\n",
      "Epoch 1/2.. Train loss: 2.421.. Test loss: 1.947.. Test accuracy: 0.517\n",
      "Epoch 1/2.. Train loss: 2.611.. Test loss: 1.855.. Test accuracy: 0.540\n",
      "Epoch 1/2.. Train loss: 2.427.. Test loss: 1.758.. Test accuracy: 0.538\n",
      "Epoch 1/2.. Train loss: 2.315.. Test loss: 1.820.. Test accuracy: 0.511\n",
      "Epoch 1/2.. Train loss: 2.176.. Test loss: 1.764.. Test accuracy: 0.512\n",
      "Epoch 1/2.. Train loss: 1.901.. Test loss: 1.682.. Test accuracy: 0.540\n",
      "Epoch 1/2.. Train loss: 2.235.. Test loss: 1.810.. Test accuracy: 0.498\n",
      "Epoch 1/2.. Train loss: 2.167.. Test loss: 1.811.. Test accuracy: 0.526\n",
      "Epoch 1/2.. Train loss: 2.248.. Test loss: 1.780.. Test accuracy: 0.508\n",
      "Epoch 1/2.. Train loss: 1.953.. Test loss: 1.776.. Test accuracy: 0.526\n",
      "Epoch 1/2.. Train loss: 2.129.. Test loss: 1.883.. Test accuracy: 0.502\n",
      "Epoch 1/2.. Train loss: 1.933.. Test loss: 1.931.. Test accuracy: 0.487\n",
      "Epoch 1/2.. Train loss: 2.015.. Test loss: 1.751.. Test accuracy: 0.511\n",
      "Epoch 1/2.. Train loss: 2.314.. Test loss: 1.752.. Test accuracy: 0.531\n",
      "Epoch 2/2.. Train loss: 1.978.. Test loss: 1.735.. Test accuracy: 0.541\n",
      "Epoch 2/2.. Train loss: 1.935.. Test loss: 1.584.. Test accuracy: 0.577\n",
      "Epoch 2/2.. Train loss: 2.093.. Test loss: 1.696.. Test accuracy: 0.564\n",
      "Epoch 2/2.. Train loss: 1.894.. Test loss: 1.670.. Test accuracy: 0.575\n",
      "Epoch 2/2.. Train loss: 1.964.. Test loss: 1.559.. Test accuracy: 0.571\n",
      "Epoch 2/2.. Train loss: 1.715.. Test loss: 1.583.. Test accuracy: 0.582\n",
      "Epoch 2/2.. Train loss: 1.802.. Test loss: 1.492.. Test accuracy: 0.585\n",
      "Epoch 2/2.. Train loss: 1.827.. Test loss: 1.524.. Test accuracy: 0.607\n",
      "Epoch 2/2.. Train loss: 1.852.. Test loss: 1.465.. Test accuracy: 0.617\n",
      "Epoch 2/2.. Train loss: 1.748.. Test loss: 1.629.. Test accuracy: 0.577\n",
      "Epoch 2/2.. Train loss: 2.017.. Test loss: 1.625.. Test accuracy: 0.583\n",
      "Epoch 2/2.. Train loss: 1.801.. Test loss: 1.588.. Test accuracy: 0.599\n",
      "Epoch 2/2.. Train loss: 1.760.. Test loss: 1.515.. Test accuracy: 0.601\n",
      "Epoch 2/2.. Train loss: 1.943.. Test loss: 1.607.. Test accuracy: 0.585\n",
      "Epoch 2/2.. Train loss: 2.099.. Test loss: 1.728.. Test accuracy: 0.567\n",
      "Epoch 2/2.. Train loss: 1.746.. Test loss: 1.734.. Test accuracy: 0.577\n",
      "Epoch 2/2.. Train loss: 2.055.. Test loss: 1.559.. Test accuracy: 0.604\n",
      "Epoch 2/2.. Train loss: 1.815.. Test loss: 1.597.. Test accuracy: 0.612\n",
      "Epoch 2/2.. Train loss: 1.776.. Test loss: 1.593.. Test accuracy: 0.605\n",
      "Epoch 2/2.. Train loss: 1.923.. Test loss: 1.540.. Test accuracy: 0.597\n",
      "Epoch 2/2.. Train loss: 1.733.. Test loss: 1.639.. Test accuracy: 0.587\n",
      "Epoch 2/2.. Train loss: 1.911.. Test loss: 1.607.. Test accuracy: 0.589\n",
      "Epoch 2/2.. Train loss: 2.072.. Test loss: 1.462.. Test accuracy: 0.615\n",
      "Epoch 2/2.. Train loss: 1.818.. Test loss: 1.492.. Test accuracy: 0.615\n",
      "Epoch 2/2.. Train loss: 2.146.. Test loss: 1.515.. Test accuracy: 0.601\n",
      "Epoch 2/2.. Train loss: 1.543.. Test loss: 1.544.. Test accuracy: 0.610\n",
      "Epoch 2/2.. Train loss: 1.613.. Test loss: 1.584.. Test accuracy: 0.601\n",
      "Epoch 2/2.. Train loss: 1.823.. Test loss: 1.536.. Test accuracy: 0.634\n",
      "Epoch 2/2.. Train loss: 1.858.. Test loss: 1.518.. Test accuracy: 0.606\n",
      "Epoch 2/2.. Train loss: 1.579.. Test loss: 1.515.. Test accuracy: 0.627\n",
      "Epoch 2/2.. Train loss: 1.769.. Test loss: 1.411.. Test accuracy: 0.643\n",
      "Epoch 2/2.. Train loss: 1.808.. Test loss: 1.453.. Test accuracy: 0.623\n",
      "Epoch 2/2.. Train loss: 2.155.. Test loss: 1.611.. Test accuracy: 0.597\n",
      "Epoch 2/2.. Train loss: 1.976.. Test loss: 1.492.. Test accuracy: 0.615\n",
      "Epoch 2/2.. Train loss: 1.223.. Test loss: 1.472.. Test accuracy: 0.643\n",
      "Epoch 2/2.. Train loss: 1.852.. Test loss: 1.533.. Test accuracy: 0.615\n",
      "Epoch 2/2.. Train loss: 1.820.. Test loss: 1.599.. Test accuracy: 0.607\n",
      "Epoch 2/2.. Train loss: 2.058.. Test loss: 1.409.. Test accuracy: 0.638\n",
      "Epoch 2/2.. Train loss: 2.065.. Test loss: 1.436.. Test accuracy: 0.632\n",
      "Epoch 2/2.. Train loss: 1.792.. Test loss: 1.532.. Test accuracy: 0.624\n",
      "Epoch 2/2.. Train loss: 1.926.. Test loss: 1.503.. Test accuracy: 0.614\n",
      "Epoch 2/2.. Train loss: 1.859.. Test loss: 1.342.. Test accuracy: 0.628\n",
      "Epoch 2/2.. Train loss: 1.728.. Test loss: 1.413.. Test accuracy: 0.614\n",
      "Epoch 2/2.. Train loss: 1.244.. Test loss: 1.414.. Test accuracy: 0.626\n",
      "Epoch 2/2.. Train loss: 1.845.. Test loss: 1.388.. Test accuracy: 0.638\n",
      "Epoch 2/2.. Train loss: 1.924.. Test loss: 1.352.. Test accuracy: 0.637\n",
      "Epoch 2/2.. Train loss: 1.961.. Test loss: 1.391.. Test accuracy: 0.625\n",
      "Epoch 2/2.. Train loss: 1.751.. Test loss: 1.336.. Test accuracy: 0.638\n",
      "Epoch 2/2.. Train loss: 1.728.. Test loss: 1.298.. Test accuracy: 0.655\n",
      "Epoch 2/2.. Train loss: 1.404.. Test loss: 1.349.. Test accuracy: 0.662\n",
      "Epoch 2/2.. Train loss: 1.680.. Test loss: 1.350.. Test accuracy: 0.654\n",
      "Epoch 2/2.. Train loss: 1.820.. Test loss: 1.360.. Test accuracy: 0.650\n"
     ]
    }
   ],
   "source": [
    "epochs = 2\n",
    "steps = 0\n",
    "running_loss = 0\n",
    "print_every = 2\n",
    "\n",
    "for epoch in range(epochs):\n",
    "    for inputs, labels in trainloader:\n",
    "        steps += 1\n",
    "        \n",
    "        inputs, labels = inputs.to(device), labels.to(device)\n",
    "        \n",
    "        optimizer.zero_grad()\n",
    "        \n",
    "        logps = model.forward(inputs)\n",
    "        loss = criterion(logps, labels)\n",
    "        loss.backward()\n",
    "        optimizer.step()\n",
    "\n",
    "        running_loss += loss.item()\n",
    "        \n",
    "        if steps % print_every == 0:\n",
    "            test_loss = 0\n",
    "            accuracy = 0\n",
    "            model.train(True)\n",
    "            with torch.no_grad():\n",
    "                for inputs, labels in valloader:\n",
    "                    inputs, labels = inputs.to(device), labels.to(device)\n",
    "                    logps = model.forward(inputs)\n",
    "                    batch_loss = criterion(logps, labels)\n",
    "                    \n",
    "                    test_loss += batch_loss.item()\n",
    "                    \n",
    "                    \n",
    "                    ps = torch.exp(logps)\n",
    "                    top_p, top_class = ps.topk(1, dim=1)\n",
    "                    equals = top_class == labels.view(*top_class.shape)\n",
    "                    accuracy += torch.mean(equals.type(torch.FloatTensor)).item()\n",
    "                    \n",
    "            print(f\"Epoch {epoch+1}/{epochs}.. \"\n",
    "                  f\"Train loss: {running_loss/print_every:.3f}.. \"\n",
    "                  f\"Test loss: {test_loss/len(testloader):.3f}.. \"\n",
    "                  f\"Test accuracy: {accuracy/len(testloader):.3f}\")\n",
    "            \n",
    "            running_loss = 0\n",
    "            model.train()         "
   ]
  },
  {
   "cell_type": "markdown",
   "metadata": {},
   "source": [
    "## Testing your network\n",
    "\n",
    "It's good practice to test your trained network on test data, images the network has never seen either in training or validation. This will give you a good estimate for the model's performance on completely new images. Run the test images through the network and measure the accuracy, the same way you did validation. You should be able to reach around 70% accuracy on the test set if the model has been trained well."
   ]
  },
  {
   "cell_type": "code",
   "execution_count": 10,
   "metadata": {},
   "outputs": [
    {
     "name": "stdout",
     "output_type": "stream",
     "text": [
      "Accuracy  on test images is: 70%\n"
     ]
    }
   ],
   "source": [
    "# TODO: Do validation on the test set\n",
    "correct = 0\n",
    "total = 0\n",
    "with torch.no_grad():\n",
    "    model.eval()\n",
    "    for data in testloader:\n",
    "        images, labels = data\n",
    "        images, labels = images.to(device), labels.to(device)\n",
    "        outputs = model(images)\n",
    "        _, predicted = torch.max(outputs.data, 1)\n",
    "        total += labels.size(0)\n",
    "        correct += (predicted == labels).sum().item()\n",
    "print('Accuracy  on test images is: %d%%' % (100 * correct / total))"
   ]
  },
  {
   "cell_type": "markdown",
   "metadata": {},
   "source": [
    "## Save the checkpoint\n",
    "\n",
    "Now that your network is trained, save the model so you can load it later for making predictions. You probably want to save other things such as the mapping of classes to indices which you get from one of the image datasets: `image_datasets['train'].class_to_idx`. You can attach this to the model as an attribute which makes inference easier later on.\n",
    "\n",
    "```model.class_to_idx = image_datasets['train'].class_to_idx```\n",
    "\n",
    "Remember that you'll want to completely rebuild the model later so you can use it for inference. Make sure to include any information you need in the checkpoint. If you want to load the model and keep training, you'll want to save the number of epochs as well as the optimizer state, `optimizer.state_dict`. You'll likely want to use this trained model in the next part of the project, so best to save it now."
   ]
  },
  {
   "cell_type": "code",
   "execution_count": 11,
   "metadata": {},
   "outputs": [],
   "source": [
    "# TODO: Save the checkpoint \n",
    "model.class_to_idx = train_datasets.class_to_idx\n",
    "\n",
    "checkpoint = {'input_size':25088,\n",
    "             'output_size':102,\n",
    "             'epochs':epochs,\n",
    "             'batch_size':64,\n",
    "             'classifier':classifier,\n",
    "             'optimizer': optimizer.state_dict(),\n",
    "              'state_dict': model.state_dict(),\n",
    "              'class_to_idx': model.class_to_idx}\n",
    "\n",
    "torch.save(model.state_dict(), 'checkpoint.pth')"
   ]
  },
  {
   "cell_type": "markdown",
   "metadata": {},
   "source": [
    "## Loading the checkpoint\n",
    "\n",
    "At this point it's good to write a function that can load a checkpoint and rebuild the model. That way you can come back to this project and keep working on it without having to retrain the network."
   ]
  },
  {
   "cell_type": "code",
   "execution_count": 12,
   "metadata": {},
   "outputs": [],
   "source": [
    "# TODO: Write a function that loads a checkpoint and rebuilds the model\n",
    "def load_checkpoint(filepath):\n",
    "    checkpoint = torch.load(filepath)\n",
    "    model = fc_model.Network(checkpoint['input_size'],\n",
    "                             checkpoint['output_size'],\n",
    "                             checkpoint['hidden_layers'])\n",
    "    model.load_state_dict(checkpoint['state_dict'])\n",
    "    \n",
    "    return model"
   ]
  },
  {
   "cell_type": "markdown",
   "metadata": {},
   "source": [
    "# Inference for classification\n",
    "\n",
    "Now you'll write a function to use a trained network for inference. That is, you'll pass an image into the network and predict the class of the flower in the image. Write a function called `predict` that takes an image and a model, then returns the top $K$ most likely classes along with the probabilities. It should look like \n",
    "\n",
    "```python\n",
    "probs, classes = predict(image_path, model)\n",
    "print(probs)\n",
    "print(classes)\n",
    "> [ 0.01558163  0.01541934  0.01452626  0.01443549  0.01407339]\n",
    "> ['70', '3', '45', '62', '55']\n",
    "```\n",
    "\n",
    "First you'll need to handle processing the input image such that it can be used in your network. \n",
    "\n",
    "## Image Preprocessing\n",
    "\n",
    "You'll want to use `PIL` to load the image ([documentation](https://pillow.readthedocs.io/en/latest/reference/Image.html)). It's best to write a function that preprocesses the image so it can be used as input for the model. This function should process the images in the same manner used for training. \n",
    "\n",
    "First, resize the images where the shortest side is 256 pixels, keeping the aspect ratio. This can be done with the [`thumbnail`](http://pillow.readthedocs.io/en/3.1.x/reference/Image.html#PIL.Image.Image.thumbnail) or [`resize`](http://pillow.readthedocs.io/en/3.1.x/reference/Image.html#PIL.Image.Image.thumbnail) methods. Then you'll need to crop out the center 224x224 portion of the image.\n",
    "\n",
    "Color channels of images are typically encoded as integers 0-255, but the model expected floats 0-1. You'll need to convert the values. It's easiest with a Numpy array, which you can get from a PIL image like so `np_image = np.array(pil_image)`.\n",
    "\n",
    "As before, the network expects the images to be normalized in a specific way. For the means, it's `[0.485, 0.456, 0.406]` and for the standard deviations `[0.229, 0.224, 0.225]`. You'll want to subtract the means from each color channel, then divide by the standard deviation. \n",
    "\n",
    "And finally, PyTorch expects the color channel to be the first dimension but it's the third dimension in the PIL image and Numpy array. You can reorder dimensions using [`ndarray.transpose`](https://docs.scipy.org/doc/numpy-1.13.0/reference/generated/numpy.ndarray.transpose.html). The color channel needs to be first and retain the order of the other two dimensions."
   ]
  },
  {
   "cell_type": "code",
   "execution_count": 40,
   "metadata": {},
   "outputs": [
    {
     "data": {
      "image/png": "[encoded data removed]",
      "text/plain": [
       "<matplotlib.figure.Figure at 0x7f261aa1a240>"
      ]
     },
     "metadata": {
      "needs_background": "light"
     },
     "output_type": "display_data"
    }
   ],
   "source": [
    "img = random.choice(os.listdir('./flowers/test/7/'))\n",
    "img_path = './flowers/test/7/' + img\n",
    "with  Image.open(img_path) as image:\n",
    "    plt.imshow(image)"
   ]
  },
  {
   "cell_type": "code",
   "execution_count": 41,
   "metadata": {},
   "outputs": [],
   "source": [
    "def process_image(image):\n",
    "    ''' Scales, crops, and normalizes a PIL image for a PyTorch model,\n",
    "        returns an Numpy array\n",
    "    '''\n",
    "    # TODO: Process a PIL image for use in a PyTorch\n",
    "    image = Image.open(img_path)\n",
    "    if image.width > image.height:\n",
    "        factor = image.width/image.height\n",
    "        image = image.resize(size=(int(round(factor*256,0)),256))\n",
    "    else:\n",
    "        factor = image.width/image.height\n",
    "        image = image.resize(size=(256, int(round(factor*256,0))))\n",
    "        \n",
    "    image = image.crop(box=((image.width/2)-112, (image.height/2)-112, (image.width/2)+112, (image.height/2)+112))\n",
    "    \n",
    "    np_image = np.array(image)\n",
    "    \n",
    "    np_image = np_image/255\n",
    "    \n",
    "    mean = np.array([0.485, 0.456, 0.406])\n",
    "    std = np.array([0.229, 0.224, 0.225])\n",
    "    np_image = (np_image - mean) / std \n",
    "    \n",
    "    np_image = np.transpose(np_image, (2, 0, 1))\n",
    "    \n",
    "    tensor_image = torch.from_numpy(np_image).type(torch.FloatTensor)"
   ]
  },
  {
   "cell_type": "markdown",
   "metadata": {},
   "source": [
    "To check your work, the function below converts a PyTorch tensor and displays it in the notebook. If your `process_image` function works, running the output through this function should return the original image (except for the cropped out portions)."
   ]
  },
  {
   "cell_type": "code",
   "execution_count": 49,
   "metadata": {},
   "outputs": [],
   "source": [
    "def imshow(image, ax=None, title=None):\n",
    "    \"\"\"Imshow for Tensor.\"\"\"\n",
    "    if ax is None:\n",
    "        fig, ax = plt.subplots()\n",
    "    \n",
    "    # PyTorch tensors assume the color channel is the first dimension\n",
    "    # but matplotlib assumes is the third dimension\n",
    "    image = image.numpy().transpose((1, 2, 0))\n",
    "    \n",
    "    # Undo preprocessing\n",
    "    mean = np.array([0.485, 0.456, 0.406])\n",
    "    std = np.array([0.229, 0.224, 0.225])\n",
    "    image = std * image + mean\n",
    "    \n",
    "    # Image needs to be clipped between 0 and 1 or it looks like noise when displayed\n",
    "    image = np.clip(image, 0, 1)\n",
    "    \n",
    "    ax.imshow(image)\n",
    "    \n",
    "    return ax"
   ]
  },
  {
   "cell_type": "markdown",
   "metadata": {},
   "source": [
    "## Class Prediction\n",
    "\n",
    "Once you can get images in the correct format, it's time to write a function for making predictions with your model. A common practice is to predict the top 5 or so (usually called top-$K$) most probable classes. You'll want to calculate the class probabilities then find the $K$ largest values.\n",
    "\n",
    "To get the top $K$ largest values in a tensor use [`x.topk(k)`](http://pytorch.org/docs/master/torch.html#torch.topk). This method returns both the highest `k` probabilities and the indices of those probabilities corresponding to the classes. You need to convert from these indices to the actual class labels using `class_to_idx` which hopefully you added to the model or from an `ImageFolder` you used to load the data ([see here](#Save-the-checkpoint)). Make sure to invert the dictionary so you get a mapping from index to class as well.\n",
    "\n",
    "Again, this method should take a path to an image and a model checkpoint, then return the probabilities and classes.\n",
    "\n",
    "```python\n",
    "probs, classes = predict(image_path, model)\n",
    "print(probs)\n",
    "print(classes)\n",
    "> [ 0.01558163  0.01541934  0.01452626  0.01443549  0.01407339]\n",
    "> ['70', '3', '45', '62', '55']\n",
    "```"
   ]
  },
  {
   "cell_type": "code",
   "execution_count": 50,
   "metadata": {},
   "outputs": [],
   "source": [
    "def predict(image_path, model, topk=5):\n",
    "    ''' Predict the class (or classes) of an image using a trained deep learning model.\n",
    "    '''\n",
    "    # TODO: Implement the code to predict the class from an image file\n",
    "    model.eval()\n",
    "    \n",
    "    image = process_image(img_path)\n",
    "    \n",
    "    image_tensor = torch.from_numpy(image).type(torch.FloatTensor)\n",
    "    \n",
    "    model_input = image_tensor.unsqueeze(0)\n",
    "    \n",
    "    probs = torch.exp(model.forward(model_input))\n",
    "    \n",
    "    top_prob, top_label = probs.topk(topk)\n",
    "    top_prob = top_prob.detach().numpy().tolist()[0]\n",
    "    top_label = top_label.detach().numpy().tolist()[0]\n",
    "    \n",
    "    idx_to_class = {val: key for key, val in model.class_to_idx.items()}\n",
    "    \n",
    "    top_labels = [idx_to_class[lab] for lab in top_label]\n",
    "    top_flowers = [cat_to_name[idx_to_class[lab]] for lab in top_labs]\n",
    "    \n",
    "    return top_prob, top_labels, top_flowers"
   ]
  },
  {
   "cell_type": "markdown",
   "metadata": {},
   "source": [
    "## Sanity Checking\n",
    "\n",
    "Now that you can use a trained model for predictions, check to make sure it makes sense. Even if the testing accuracy is high, it's always good to check that there aren't obvious bugs. Use `matplotlib` to plot the probabilities for the top 5 classes as a bar graph, along with the input image. It should look like this:\n",
    "\n",
    "<img src='assets/inference_example.png' width=300px>\n",
    "\n",
    "You can convert from the class integer encoding to actual flower names with the `cat_to_name.json` file (should have been loaded earlier in the notebook). To show a PyTorch tensor as an image, use the `imshow` function defined above."
   ]
  },
  {
   "cell_type": "code",
   "execution_count": 55,
   "metadata": {
    "scrolled": true
   },
   "outputs": [
    {
     "ename": "KeyError",
     "evalue": "'./flowers/test/7/image_07215.jpg'",
     "output_type": "error",
     "traceback": [
      "\u001b[0;31m---------------------------------------------------------------------------\u001b[0m",
      "\u001b[0;31mKeyError\u001b[0m                                  Traceback (most recent call last)",
      "\u001b[0;32m<ipython-input-55-149788c825da>\u001b[0m in \u001b[0;36m<module>\u001b[0;34m()\u001b[0m\n\u001b[1;32m      4\u001b[0m \u001b[0;34m\u001b[0m\u001b[0m\n\u001b[1;32m      5\u001b[0m \u001b[0mflower_num\u001b[0m \u001b[0;34m=\u001b[0m \u001b[0mimg_path\u001b[0m\u001b[0;34m\u001b[0m\u001b[0m\n\u001b[0;32m----> 6\u001b[0;31m \u001b[0mtitle_\u001b[0m \u001b[0;34m=\u001b[0m \u001b[0mcat_to_name\u001b[0m\u001b[0;34m[\u001b[0m\u001b[0mflower_num\u001b[0m\u001b[0;34m]\u001b[0m\u001b[0;34m\u001b[0m\u001b[0m\n\u001b[0m\u001b[1;32m      7\u001b[0m \u001b[0;34m\u001b[0m\u001b[0m\n\u001b[1;32m      8\u001b[0m \u001b[0mimg\u001b[0m \u001b[0;34m=\u001b[0m \u001b[0mprocess_image\u001b[0m\u001b[0;34m(\u001b[0m\u001b[0mimg_path\u001b[0m\u001b[0;34m)\u001b[0m\u001b[0;34m\u001b[0m\u001b[0m\n",
      "\u001b[0;31mKeyError\u001b[0m: './flowers/test/7/image_07215.jpg'"
     ]
    },
    {
     "data": {
      "image/png": "[encoded data removed]",
      "text/plain": [
       "<matplotlib.figure.Figure at 0x7f2619e2d160>"
      ]
     },
     "metadata": {
      "needs_background": "light"
     },
     "output_type": "display_data"
    }
   ],
   "source": [
    "# TODO: Display an image along with the top 5 classe\n",
    "plt.figure(figsize = (6,10))\n",
    "ax = plt.subplot(2,1,1)\n",
    "    \n",
    "flower_num = img_path\n",
    "title_ = cat_to_name[flower_num]\n",
    "    \n",
    "img = process_image(img_path)\n",
    "imshow(img, ax, title = title_);\n",
    "    \n",
    "probs, labs, flowers = predict(image_path, model) \n",
    "    \n",
    "plt.subplot(2,1,2)\n",
    "sns.barplot(x=probs, y=flowers, color=sns.color_palette()[0])\n",
    "    \n",
    "plt.show()"
   ]
  },
  {
   "cell_type": "code",
   "execution_count": null,
   "metadata": {},
   "outputs": [],
   "source": []
  },
  {
   "cell_type": "code",
   "execution_count": null,
   "metadata": {},
   "outputs": [],
   "source": []
  }
 ],
 "metadata": {
  "kernelspec": {
   "display_name": "Python 3",
   "language": "python",
   "name": "python3"
  },
  "language_info": {
   "codemirror_mode": {
    "name": "ipython",
    "version": 3
   },
   "file_extension": ".py",
   "mimetype": "text/x-python",
   "name": "python",
   "nbconvert_exporter": "python",
   "pygments_lexer": "ipython3",
   "version": "3.6.3"
  }
 },
 "nbformat": 4,
 "nbformat_minor": 2
}
